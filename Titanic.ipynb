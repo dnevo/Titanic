{
  "nbformat": 4,
  "nbformat_minor": 0,
  "metadata": {
    "colab": {
      "name": "Titanic.ipynb",
      "provenance": [],
      "collapsed_sections": [],
      "mount_file_id": "1OD2lhSi-DCc08LxDsbjQJ7pkyVIRf2AU",
      "authorship_tag": "ABX9TyNbPdk+styVEWvjhFhbQVYE",
      "include_colab_link": true
    },
    "kernelspec": {
      "name": "python3",
      "display_name": "Python 3"
    },
    "accelerator": "GPU"
  },
  "cells": [
    {
      "cell_type": "markdown",
      "metadata": {
        "id": "view-in-github",
        "colab_type": "text"
      },
      "source": [
        "<a href=\"https://colab.research.google.com/github/dnevo/Titanic/blob/master/Titanic.ipynb\" target=\"_parent\"><img src=\"https://colab.research.google.com/assets/colab-badge.svg\" alt=\"Open In Colab\"/></a>"
      ]
    },
    {
      "cell_type": "code",
      "metadata": {
        "id": "exfEF2Vk5aJN",
        "colab_type": "code",
        "outputId": "d963acb3-7a00-4420-a2a5-eb6dfee94303",
        "colab": {
          "base_uri": "https://localhost:8080/",
          "height": 52
        }
      },
      "source": [
        "# following lines are specific to Google Colab\n",
        "#%load_ext google.colab.data_table\n",
        "from google.colab import drive\n",
        "drive.mount('/content/drive')\n",
        "%cd '/content/drive/My Drive/Colab Notebooks/Titanic'"
      ],
      "execution_count": 1,
      "outputs": [
        {
          "output_type": "stream",
          "text": [
            "Drive already mounted at /content/drive; to attempt to forcibly remount, call drive.mount(\"/content/drive\", force_remount=True).\n",
            "/content/drive/My Drive/Colab Notebooks/Titanic\n"
          ],
          "name": "stdout"
        }
      ]
    },
    {
      "cell_type": "code",
      "metadata": {
        "id": "JsWrHOpY6vbz",
        "colab_type": "code",
        "colab": {
          "base_uri": "https://localhost:8080/",
          "height": 72
        },
        "outputId": "88efb773-f944-4570-96cd-04286a1995d8"
      },
      "source": [
        "import pandas as pd\n",
        "import numpy as np\n",
        "import matplotlib.pyplot as plt \n",
        "%matplotlib inline \n",
        "import seaborn as sns\n",
        "from sklearn.model_selection import train_test_split\n",
        "from sklearn.ensemble import RandomForestClassifier\n",
        "from sklearn.linear_model import LogisticRegression\n",
        "from sklearn.tree import DecisionTreeClassifier\n",
        "pd.set_option('display.width', 200)\n",
        "pd.set_option('display.max_columns', None)\n",
        "pd.options.display.float_format = '{:11,.2f}'.format"
      ],
      "execution_count": 2,
      "outputs": [
        {
          "output_type": "stream",
          "text": [
            "/usr/local/lib/python3.6/dist-packages/statsmodels/tools/_testing.py:19: FutureWarning: pandas.util.testing is deprecated. Use the functions in the public API at pandas.testing instead.\n",
            "  import pandas.util.testing as tm\n"
          ],
          "name": "stderr"
        }
      ]
    },
    {
      "cell_type": "code",
      "metadata": {
        "id": "fZY3jtFu6vaK",
        "colab_type": "code",
        "outputId": "54a9879c-dd2e-4e55-bb0a-276ba22393e1",
        "colab": {
          "base_uri": "https://localhost:8080/",
          "height": 137
        }
      },
      "source": [
        "df_train = pd.read_csv('datasets/train.csv',index_col=0)\n",
        "df_train.head(2)"
      ],
      "execution_count": 6,
      "outputs": [
        {
          "output_type": "execute_result",
          "data": {
            "text/html": [
              "<div>\n",
              "<style scoped>\n",
              "    .dataframe tbody tr th:only-of-type {\n",
              "        vertical-align: middle;\n",
              "    }\n",
              "\n",
              "    .dataframe tbody tr th {\n",
              "        vertical-align: top;\n",
              "    }\n",
              "\n",
              "    .dataframe thead th {\n",
              "        text-align: right;\n",
              "    }\n",
              "</style>\n",
              "<table border=\"1\" class=\"dataframe\">\n",
              "  <thead>\n",
              "    <tr style=\"text-align: right;\">\n",
              "      <th></th>\n",
              "      <th>Survived</th>\n",
              "      <th>Pclass</th>\n",
              "      <th>Name</th>\n",
              "      <th>Sex</th>\n",
              "      <th>Age</th>\n",
              "      <th>SibSp</th>\n",
              "      <th>Parch</th>\n",
              "      <th>Ticket</th>\n",
              "      <th>Fare</th>\n",
              "      <th>Cabin</th>\n",
              "      <th>Embarked</th>\n",
              "    </tr>\n",
              "    <tr>\n",
              "      <th>PassengerId</th>\n",
              "      <th></th>\n",
              "      <th></th>\n",
              "      <th></th>\n",
              "      <th></th>\n",
              "      <th></th>\n",
              "      <th></th>\n",
              "      <th></th>\n",
              "      <th></th>\n",
              "      <th></th>\n",
              "      <th></th>\n",
              "      <th></th>\n",
              "    </tr>\n",
              "  </thead>\n",
              "  <tbody>\n",
              "    <tr>\n",
              "      <th>1</th>\n",
              "      <td>0</td>\n",
              "      <td>3</td>\n",
              "      <td>Braund, Mr. Owen Harris</td>\n",
              "      <td>male</td>\n",
              "      <td>22.00</td>\n",
              "      <td>1</td>\n",
              "      <td>0</td>\n",
              "      <td>A/5 21171</td>\n",
              "      <td>7.25</td>\n",
              "      <td>NaN</td>\n",
              "      <td>S</td>\n",
              "    </tr>\n",
              "    <tr>\n",
              "      <th>2</th>\n",
              "      <td>1</td>\n",
              "      <td>1</td>\n",
              "      <td>Cumings, Mrs. John Bradley (Florence Briggs Th...</td>\n",
              "      <td>female</td>\n",
              "      <td>38.00</td>\n",
              "      <td>1</td>\n",
              "      <td>0</td>\n",
              "      <td>PC 17599</td>\n",
              "      <td>71.28</td>\n",
              "      <td>C85</td>\n",
              "      <td>C</td>\n",
              "    </tr>\n",
              "  </tbody>\n",
              "</table>\n",
              "</div>"
            ],
            "text/plain": [
              "             Survived  Pclass                                               Name     Sex         Age  SibSp  Parch     Ticket        Fare Cabin Embarked\n",
              "PassengerId                                                                                                                                             \n",
              "1                   0       3                            Braund, Mr. Owen Harris    male       22.00      1      0  A/5 21171        7.25   NaN        S\n",
              "2                   1       1  Cumings, Mrs. John Bradley (Florence Briggs Th...  female       38.00      1      0   PC 17599       71.28   C85        C"
            ]
          },
          "metadata": {
            "tags": []
          },
          "execution_count": 6
        }
      ]
    },
    {
      "cell_type": "code",
      "metadata": {
        "id": "bT-2PkcG9lwZ",
        "colab_type": "code",
        "outputId": "160df9c4-a292-4d0e-d324-d6f639121b85",
        "colab": {
          "base_uri": "https://localhost:8080/",
          "height": 137
        }
      },
      "source": [
        "df_test = pd.read_csv('datasets/test.csv',index_col=0)\n",
        "df_test.head(2)"
      ],
      "execution_count": 7,
      "outputs": [
        {
          "output_type": "execute_result",
          "data": {
            "text/html": [
              "<div>\n",
              "<style scoped>\n",
              "    .dataframe tbody tr th:only-of-type {\n",
              "        vertical-align: middle;\n",
              "    }\n",
              "\n",
              "    .dataframe tbody tr th {\n",
              "        vertical-align: top;\n",
              "    }\n",
              "\n",
              "    .dataframe thead th {\n",
              "        text-align: right;\n",
              "    }\n",
              "</style>\n",
              "<table border=\"1\" class=\"dataframe\">\n",
              "  <thead>\n",
              "    <tr style=\"text-align: right;\">\n",
              "      <th></th>\n",
              "      <th>Pclass</th>\n",
              "      <th>Name</th>\n",
              "      <th>Sex</th>\n",
              "      <th>Age</th>\n",
              "      <th>SibSp</th>\n",
              "      <th>Parch</th>\n",
              "      <th>Ticket</th>\n",
              "      <th>Fare</th>\n",
              "      <th>Cabin</th>\n",
              "      <th>Embarked</th>\n",
              "    </tr>\n",
              "    <tr>\n",
              "      <th>PassengerId</th>\n",
              "      <th></th>\n",
              "      <th></th>\n",
              "      <th></th>\n",
              "      <th></th>\n",
              "      <th></th>\n",
              "      <th></th>\n",
              "      <th></th>\n",
              "      <th></th>\n",
              "      <th></th>\n",
              "      <th></th>\n",
              "    </tr>\n",
              "  </thead>\n",
              "  <tbody>\n",
              "    <tr>\n",
              "      <th>892</th>\n",
              "      <td>3</td>\n",
              "      <td>Kelly, Mr. James</td>\n",
              "      <td>male</td>\n",
              "      <td>34.50</td>\n",
              "      <td>0</td>\n",
              "      <td>0</td>\n",
              "      <td>330911</td>\n",
              "      <td>7.83</td>\n",
              "      <td>NaN</td>\n",
              "      <td>Q</td>\n",
              "    </tr>\n",
              "    <tr>\n",
              "      <th>893</th>\n",
              "      <td>3</td>\n",
              "      <td>Wilkes, Mrs. James (Ellen Needs)</td>\n",
              "      <td>female</td>\n",
              "      <td>47.00</td>\n",
              "      <td>1</td>\n",
              "      <td>0</td>\n",
              "      <td>363272</td>\n",
              "      <td>7.00</td>\n",
              "      <td>NaN</td>\n",
              "      <td>S</td>\n",
              "    </tr>\n",
              "  </tbody>\n",
              "</table>\n",
              "</div>"
            ],
            "text/plain": [
              "             Pclass                              Name     Sex         Age  SibSp  Parch  Ticket        Fare Cabin Embarked\n",
              "PassengerId                                                                                                               \n",
              "892               3                  Kelly, Mr. James    male       34.50      0      0  330911        7.83   NaN        Q\n",
              "893               3  Wilkes, Mrs. James (Ellen Needs)  female       47.00      1      0  363272        7.00   NaN        S"
            ]
          },
          "metadata": {
            "tags": []
          },
          "execution_count": 7
        }
      ]
    },
    {
      "cell_type": "markdown",
      "metadata": {
        "id": "tx4ATudcWZC5",
        "colab_type": "text"
      },
      "source": [
        "### Combine Test and Validation for easier pre-processing"
      ]
    },
    {
      "cell_type": "code",
      "metadata": {
        "id": "WLTzxg209ybQ",
        "colab_type": "code",
        "colab": {}
      },
      "source": [
        "df_combined = pd.concat([df_train,df_test])"
      ],
      "execution_count": 0,
      "outputs": []
    },
    {
      "cell_type": "code",
      "metadata": {
        "id": "z9Gt4oya_bpB",
        "colab_type": "code",
        "outputId": "3e9704a1-864e-4f50-c433-576cf9a2ec67",
        "colab": {
          "base_uri": "https://localhost:8080/",
          "height": 336
        }
      },
      "source": [
        "df_combined.info()"
      ],
      "execution_count": 0,
      "outputs": [
        {
          "output_type": "stream",
          "text": [
            "<class 'pandas.core.frame.DataFrame'>\n",
            "Int64Index: 1309 entries, 1 to 1309\n",
            "Data columns (total 11 columns):\n",
            " #   Column    Non-Null Count  Dtype  \n",
            "---  ------    --------------  -----  \n",
            " 0   Survived  891 non-null    float64\n",
            " 1   Pclass    1309 non-null   int64  \n",
            " 2   Name      1309 non-null   object \n",
            " 3   Sex       1309 non-null   object \n",
            " 4   Age       1046 non-null   float64\n",
            " 5   SibSp     1309 non-null   int64  \n",
            " 6   Parch     1309 non-null   int64  \n",
            " 7   Ticket    1309 non-null   object \n",
            " 8   Fare      1308 non-null   float64\n",
            " 9   Cabin     295 non-null    object \n",
            " 10  Embarked  1307 non-null   object \n",
            "dtypes: float64(3), int64(3), object(5)\n",
            "memory usage: 122.7+ KB\n"
          ],
          "name": "stdout"
        }
      ]
    },
    {
      "cell_type": "markdown",
      "metadata": {
        "id": "XWVV5A1WAoZ7",
        "colab_type": "text"
      },
      "source": [
        "As above, there are few columns with missing values:\n",
        "- `Age`: 263 missing values. Must be handled as it may have big impact on survival\n",
        "- `Fare`: 1 missing value\n",
        "- `Cabin`: mostly missing values - we will drop it.\n",
        "- `Embarked`: 2 missing values"
      ]
    },
    {
      "cell_type": "markdown",
      "metadata": {
        "id": "LEx-yO7hjFDn",
        "colab_type": "text"
      },
      "source": [
        "#### Extract the title from the `Name` column - this is the part which can have meaning"
      ]
    },
    {
      "cell_type": "code",
      "metadata": {
        "id": "YbUeb9RSlxyD",
        "colab_type": "code",
        "outputId": "20b85934-55b0-4df9-a206-c80a47631eef",
        "colab": {
          "base_uri": "https://localhost:8080/",
          "height": 354
        }
      },
      "source": [
        "title = df_combined.Name.str.split(',').str[1].str.split('.').str[0].str.strip()\n",
        "title.value_counts()"
      ],
      "execution_count": 0,
      "outputs": [
        {
          "output_type": "execute_result",
          "data": {
            "text/plain": [
              "Mr              757\n",
              "Miss            260\n",
              "Mrs             197\n",
              "Master           61\n",
              "Rev               8\n",
              "Dr                8\n",
              "Col               4\n",
              "Ms                2\n",
              "Mlle              2\n",
              "Major             2\n",
              "Mme               1\n",
              "Jonkheer          1\n",
              "Lady              1\n",
              "Capt              1\n",
              "the Countess      1\n",
              "Don               1\n",
              "Sir               1\n",
              "Dona              1\n",
              "Name: Name, dtype: int64"
            ]
          },
          "metadata": {
            "tags": []
          },
          "execution_count": 187
        }
      ]
    },
    {
      "cell_type": "markdown",
      "metadata": {
        "id": "nsQk8HkOK1L5",
        "colab_type": "text"
      },
      "source": [
        "As above, 4 titles are the most frequent ones - we will later convert the other titles to these 4. Mr: adult male, Miss: young female, Mrs: adult female, Master: child male"
      ]
    },
    {
      "cell_type": "code",
      "metadata": {
        "id": "ZC-b9WISdkiC",
        "colab_type": "code",
        "colab": {}
      },
      "source": [
        "title_dict = {'Mr':'Mr',  'Mrs':'Mrs',  'Miss':'Miss',  'Master':'Master',  'Don':'Mr',  'Rev':'Mr',  'Dr':'Mr','Mme':'Mrs', 'Ms':'Miss', \n",
        "              'Major':'Mr', 'Lady':'Mrs', 'Sir':'Mr', 'Mlle':'Miss', 'Col':'Mr', 'Capt':'Mr', 'the Countess':'Mrs', 'Jonkheer':'Mr', 'Dona':'Mrs'}\n",
        "df_combined['Title'] = title.map(title_dict)"
      ],
      "execution_count": 0,
      "outputs": []
    },
    {
      "cell_type": "markdown",
      "metadata": {
        "id": "Wj2nan-ujbd-",
        "colab_type": "text"
      },
      "source": [
        "Handling missing values in `Age`. As can be noticed, `Age` has correlation to `Pclass` (higher ages in Pclass=1), and to `title` (Mrs > Mr > Miss > Master)"
      ]
    },
    {
      "cell_type": "code",
      "metadata": {
        "id": "54bzbjg4f1Mb",
        "colab_type": "code",
        "outputId": "4b57d1bd-62e7-4178-e159-faa148bc8a7a",
        "colab": {
          "base_uri": "https://localhost:8080/",
          "height": 265
        }
      },
      "source": [
        "df_combined.groupby(['Title','Pclass'])['Age'].mean()"
      ],
      "execution_count": 0,
      "outputs": [
        {
          "output_type": "execute_result",
          "data": {
            "text/plain": [
              "Title   Pclass\n",
              "Master  1               6.98\n",
              "        2               2.76\n",
              "        3               6.09\n",
              "Miss    1              30.13\n",
              "        2              20.87\n",
              "        3              17.36\n",
              "Mr      1              42.24\n",
              "        2              32.91\n",
              "        3              28.32\n",
              "Mrs     1              42.80\n",
              "        2              33.52\n",
              "        3              32.33\n",
              "Name: Age, dtype: float64"
            ]
          },
          "metadata": {
            "tags": []
          },
          "execution_count": 189
        }
      ]
    },
    {
      "cell_type": "code",
      "metadata": {
        "id": "ktjN-khniU6v",
        "colab_type": "code",
        "colab": {}
      },
      "source": [
        "df_combined['Age'] = df_combined['Age'].fillna(df_combined.groupby(['Title', 'Pclass'])['Age'].transform('mean'))"
      ],
      "execution_count": 0,
      "outputs": []
    },
    {
      "cell_type": "markdown",
      "metadata": {
        "id": "3yp8LNhiPjAF",
        "colab_type": "text"
      },
      "source": [
        "Handling missing values in `Embarked`:"
      ]
    },
    {
      "cell_type": "code",
      "metadata": {
        "id": "xuUUYcszPtcS",
        "colab_type": "code",
        "outputId": "4e493d5c-93ac-4593-ffaf-dbe8ac2094aa",
        "colab": {
          "base_uri": "https://localhost:8080/",
          "height": 87
        }
      },
      "source": [
        "print(df_combined['Embarked'].value_counts())\n",
        "df_combined.Embarked.fillna(value='S',inplace=True) # replace by 'S' since it is the most frequent"
      ],
      "execution_count": 0,
      "outputs": [
        {
          "output_type": "stream",
          "text": [
            "S    914\n",
            "C    270\n",
            "Q    123\n",
            "Name: Embarked, dtype: int64\n"
          ],
          "name": "stdout"
        }
      ]
    },
    {
      "cell_type": "code",
      "metadata": {
        "id": "B7LvmO4b_uJu",
        "colab_type": "code",
        "outputId": "c83c9580-242b-4794-92fc-23dabb78058b",
        "colab": {
          "base_uri": "https://localhost:8080/",
          "height": 278
        }
      },
      "source": [
        "sns.kdeplot(df_combined.loc[(df_combined['Pclass']==1), 'Age'], color='r', shade=True, Label='Class=1')  \n",
        "sns.kdeplot(df_combined.loc[(df_combined['Pclass']==2), 'Age'], color='b', shade=True, Label='Class=2') \n",
        "sns.kdeplot(df_combined.loc[(df_combined['Pclass']==3), 'Age'], color='g', shade=True, Label='Class=3') \n",
        "plt.xlabel('Age');\n",
        "plt.ylabel('Probability Density');"
      ],
      "execution_count": 0,
      "outputs": [
        {
          "output_type": "display_data",
          "data": {
            "image/png": "[encoded data removed]",
            "text/plain": [
              "<Figure size 432x288 with 1 Axes>"
            ]
          },
          "metadata": {
            "tags": [],
            "needs_background": "light"
          }
        }
      ]
    },
    {
      "cell_type": "code",
      "metadata": {
        "id": "orRmjdHLDT9L",
        "colab_type": "code",
        "outputId": "f98f2802-ba13-4534-dd4e-6e8cd7d42b7e",
        "colab": {
          "base_uri": "https://localhost:8080/",
          "height": 264
        }
      },
      "source": [
        "plt.hist(df_combined['Age'], color = 'blue', edgecolor = 'black', bins = int(20));"
      ],
      "execution_count": 0,
      "outputs": [
        {
          "output_type": "display_data",
          "data": {
            "image/png": "[encoded data removed]",
            "text/plain": [
              "<Figure size 432x288 with 1 Axes>"
            ]
          },
          "metadata": {
            "tags": [],
            "needs_background": "light"
          }
        }
      ]
    },
    {
      "cell_type": "code",
      "metadata": {
        "id": "S9QlNjUuAZIX",
        "colab_type": "code",
        "outputId": "483344c6-2a22-4440-b15b-3f63885cbc64",
        "colab": {
          "base_uri": "https://localhost:8080/",
          "height": 257
        }
      },
      "source": [
        "df_combined['age_group'] = pd.cut(df_combined['Age'], bins=[i for i in range(0,81,5)], right=False) #,labels=[i for i in range(1,81,5)])\n",
        "df_combined[df_combined['Sex']=='male'].groupby('age_group').agg({'Survived': ['count', 'sum', 'mean']}).head(5)"
      ],
      "execution_count": 0,
      "outputs": [
        {
          "output_type": "execute_result",
          "data": {
            "text/html": [
              "<div>\n",
              "<style scoped>\n",
              "    .dataframe tbody tr th:only-of-type {\n",
              "        vertical-align: middle;\n",
              "    }\n",
              "\n",
              "    .dataframe tbody tr th {\n",
              "        vertical-align: top;\n",
              "    }\n",
              "\n",
              "    .dataframe thead tr th {\n",
              "        text-align: left;\n",
              "    }\n",
              "\n",
              "    .dataframe thead tr:last-of-type th {\n",
              "        text-align: right;\n",
              "    }\n",
              "</style>\n",
              "<table border=\"1\" class=\"dataframe\">\n",
              "  <thead>\n",
              "    <tr>\n",
              "      <th></th>\n",
              "      <th colspan=\"3\" halign=\"left\">Survived</th>\n",
              "    </tr>\n",
              "    <tr>\n",
              "      <th></th>\n",
              "      <th>count</th>\n",
              "      <th>sum</th>\n",
              "      <th>mean</th>\n",
              "    </tr>\n",
              "    <tr>\n",
              "      <th>age_group</th>\n",
              "      <th></th>\n",
              "      <th></th>\n",
              "      <th></th>\n",
              "    </tr>\n",
              "  </thead>\n",
              "  <tbody>\n",
              "    <tr>\n",
              "      <th>[0, 5)</th>\n",
              "      <td>23</td>\n",
              "      <td>15.00</td>\n",
              "      <td>0.65</td>\n",
              "    </tr>\n",
              "    <tr>\n",
              "      <th>[5, 10)</th>\n",
              "      <td>13</td>\n",
              "      <td>6.00</td>\n",
              "      <td>0.46</td>\n",
              "    </tr>\n",
              "    <tr>\n",
              "      <th>[10, 15)</th>\n",
              "      <td>7</td>\n",
              "      <td>2.00</td>\n",
              "      <td>0.29</td>\n",
              "    </tr>\n",
              "    <tr>\n",
              "      <th>[15, 20)</th>\n",
              "      <td>50</td>\n",
              "      <td>5.00</td>\n",
              "      <td>0.10</td>\n",
              "    </tr>\n",
              "    <tr>\n",
              "      <th>[20, 25)</th>\n",
              "      <td>72</td>\n",
              "      <td>7.00</td>\n",
              "      <td>0.10</td>\n",
              "    </tr>\n",
              "  </tbody>\n",
              "</table>\n",
              "</div>"
            ],
            "text/plain": [
              "          Survived                        \n",
              "             count         sum        mean\n",
              "age_group                                 \n",
              "[0, 5)          23       15.00        0.65\n",
              "[5, 10)         13        6.00        0.46\n",
              "[10, 15)         7        2.00        0.29\n",
              "[15, 20)        50        5.00        0.10\n",
              "[20, 25)        72        7.00        0.10"
            ]
          },
          "metadata": {
            "tags": []
          },
          "execution_count": 194
        }
      ]
    },
    {
      "cell_type": "markdown",
      "metadata": {
        "id": "grHxjHcbSeIB",
        "colab_type": "text"
      },
      "source": [
        "Following above, create new `is_child` feature, since survival rate below 10 is higher."
      ]
    },
    {
      "cell_type": "code",
      "metadata": {
        "id": "KUtvHzx9SXju",
        "colab_type": "code",
        "colab": {}
      },
      "source": [
        "df_combined['is_child'] = np.where(df_combined['Age'] < 10, 1, 0)"
      ],
      "execution_count": 0,
      "outputs": []
    },
    {
      "cell_type": "markdown",
      "metadata": {
        "id": "5_pVYQfgTAsq",
        "colab_type": "text"
      },
      "source": [
        "create `family_size` - as can be seen, high correlation to survival rate:"
      ]
    },
    {
      "cell_type": "code",
      "metadata": {
        "id": "5aBqwTz5Ybxt",
        "colab_type": "code",
        "outputId": "bd055a6d-a8ac-42e9-bbfc-e962ee449d40",
        "colab": {
          "base_uri": "https://localhost:8080/",
          "height": 377
        }
      },
      "source": [
        "df_combined['family_size'] = df_combined.SibSp + df_combined.Parch\n",
        "df_combined[df_combined['Sex']=='male'].groupby('family_size').agg({'Survived': ['count', 'sum', 'mean']})"
      ],
      "execution_count": 0,
      "outputs": [
        {
          "output_type": "execute_result",
          "data": {
            "text/html": [
              "<div>\n",
              "<style scoped>\n",
              "    .dataframe tbody tr th:only-of-type {\n",
              "        vertical-align: middle;\n",
              "    }\n",
              "\n",
              "    .dataframe tbody tr th {\n",
              "        vertical-align: top;\n",
              "    }\n",
              "\n",
              "    .dataframe thead tr th {\n",
              "        text-align: left;\n",
              "    }\n",
              "\n",
              "    .dataframe thead tr:last-of-type th {\n",
              "        text-align: right;\n",
              "    }\n",
              "</style>\n",
              "<table border=\"1\" class=\"dataframe\">\n",
              "  <thead>\n",
              "    <tr>\n",
              "      <th></th>\n",
              "      <th colspan=\"3\" halign=\"left\">Survived</th>\n",
              "    </tr>\n",
              "    <tr>\n",
              "      <th></th>\n",
              "      <th>count</th>\n",
              "      <th>sum</th>\n",
              "      <th>mean</th>\n",
              "    </tr>\n",
              "    <tr>\n",
              "      <th>family_size</th>\n",
              "      <th></th>\n",
              "      <th></th>\n",
              "      <th></th>\n",
              "    </tr>\n",
              "  </thead>\n",
              "  <tbody>\n",
              "    <tr>\n",
              "      <th>0</th>\n",
              "      <td>411</td>\n",
              "      <td>64.00</td>\n",
              "      <td>0.16</td>\n",
              "    </tr>\n",
              "    <tr>\n",
              "      <th>1</th>\n",
              "      <td>74</td>\n",
              "      <td>18.00</td>\n",
              "      <td>0.24</td>\n",
              "    </tr>\n",
              "    <tr>\n",
              "      <th>2</th>\n",
              "      <td>53</td>\n",
              "      <td>21.00</td>\n",
              "      <td>0.40</td>\n",
              "    </tr>\n",
              "    <tr>\n",
              "      <th>3</th>\n",
              "      <td>10</td>\n",
              "      <td>5.00</td>\n",
              "      <td>0.50</td>\n",
              "    </tr>\n",
              "    <tr>\n",
              "      <th>4</th>\n",
              "      <td>3</td>\n",
              "      <td>0.00</td>\n",
              "      <td>0.00</td>\n",
              "    </tr>\n",
              "    <tr>\n",
              "      <th>5</th>\n",
              "      <td>14</td>\n",
              "      <td>0.00</td>\n",
              "      <td>0.00</td>\n",
              "    </tr>\n",
              "    <tr>\n",
              "      <th>6</th>\n",
              "      <td>4</td>\n",
              "      <td>1.00</td>\n",
              "      <td>0.25</td>\n",
              "    </tr>\n",
              "    <tr>\n",
              "      <th>7</th>\n",
              "      <td>4</td>\n",
              "      <td>0.00</td>\n",
              "      <td>0.00</td>\n",
              "    </tr>\n",
              "    <tr>\n",
              "      <th>10</th>\n",
              "      <td>4</td>\n",
              "      <td>0.00</td>\n",
              "      <td>0.00</td>\n",
              "    </tr>\n",
              "  </tbody>\n",
              "</table>\n",
              "</div>"
            ],
            "text/plain": [
              "            Survived                        \n",
              "               count         sum        mean\n",
              "family_size                                 \n",
              "0                411       64.00        0.16\n",
              "1                 74       18.00        0.24\n",
              "2                 53       21.00        0.40\n",
              "3                 10        5.00        0.50\n",
              "4                  3        0.00        0.00\n",
              "5                 14        0.00        0.00\n",
              "6                  4        1.00        0.25\n",
              "7                  4        0.00        0.00\n",
              "10                 4        0.00        0.00"
            ]
          },
          "metadata": {
            "tags": []
          },
          "execution_count": 196
        }
      ]
    },
    {
      "cell_type": "code",
      "metadata": {
        "id": "ZUsGlGeS9Cfi",
        "colab_type": "code",
        "outputId": "f14bf270-d886-48e3-e26d-5ca0494c9a3a",
        "colab": {
          "base_uri": "https://localhost:8080/",
          "height": 377
        }
      },
      "source": [
        "df_combined.describe(include='all')"
      ],
      "execution_count": 0,
      "outputs": [
        {
          "output_type": "execute_result",
          "data": {
            "text/html": [
              "<div>\n",
              "<style scoped>\n",
              "    .dataframe tbody tr th:only-of-type {\n",
              "        vertical-align: middle;\n",
              "    }\n",
              "\n",
              "    .dataframe tbody tr th {\n",
              "        vertical-align: top;\n",
              "    }\n",
              "\n",
              "    .dataframe thead th {\n",
              "        text-align: right;\n",
              "    }\n",
              "</style>\n",
              "<table border=\"1\" class=\"dataframe\">\n",
              "  <thead>\n",
              "    <tr style=\"text-align: right;\">\n",
              "      <th></th>\n",
              "      <th>Survived</th>\n",
              "      <th>Pclass</th>\n",
              "      <th>Name</th>\n",
              "      <th>Sex</th>\n",
              "      <th>Age</th>\n",
              "      <th>SibSp</th>\n",
              "      <th>Parch</th>\n",
              "      <th>Ticket</th>\n",
              "      <th>Fare</th>\n",
              "      <th>Cabin</th>\n",
              "      <th>Embarked</th>\n",
              "      <th>Title</th>\n",
              "      <th>age_group</th>\n",
              "      <th>is_child</th>\n",
              "      <th>family_size</th>\n",
              "    </tr>\n",
              "  </thead>\n",
              "  <tbody>\n",
              "    <tr>\n",
              "      <th>count</th>\n",
              "      <td>891.00</td>\n",
              "      <td>1,309.00</td>\n",
              "      <td>1309</td>\n",
              "      <td>1309</td>\n",
              "      <td>1,309.00</td>\n",
              "      <td>1,309.00</td>\n",
              "      <td>1,309.00</td>\n",
              "      <td>1309</td>\n",
              "      <td>1,308.00</td>\n",
              "      <td>295</td>\n",
              "      <td>1309</td>\n",
              "      <td>1309</td>\n",
              "      <td>1308</td>\n",
              "      <td>1,309.00</td>\n",
              "      <td>1,309.00</td>\n",
              "    </tr>\n",
              "    <tr>\n",
              "      <th>unique</th>\n",
              "      <td>nan</td>\n",
              "      <td>nan</td>\n",
              "      <td>1307</td>\n",
              "      <td>2</td>\n",
              "      <td>nan</td>\n",
              "      <td>nan</td>\n",
              "      <td>nan</td>\n",
              "      <td>929</td>\n",
              "      <td>nan</td>\n",
              "      <td>186</td>\n",
              "      <td>3</td>\n",
              "      <td>4</td>\n",
              "      <td>16</td>\n",
              "      <td>nan</td>\n",
              "      <td>nan</td>\n",
              "    </tr>\n",
              "    <tr>\n",
              "      <th>top</th>\n",
              "      <td>nan</td>\n",
              "      <td>nan</td>\n",
              "      <td>Connolly, Miss. Kate</td>\n",
              "      <td>male</td>\n",
              "      <td>nan</td>\n",
              "      <td>nan</td>\n",
              "      <td>nan</td>\n",
              "      <td>CA. 2343</td>\n",
              "      <td>nan</td>\n",
              "      <td>C23 C25 C27</td>\n",
              "      <td>S</td>\n",
              "      <td>Mr</td>\n",
              "      <td>[25, 30)</td>\n",
              "      <td>nan</td>\n",
              "      <td>nan</td>\n",
              "    </tr>\n",
              "    <tr>\n",
              "      <th>freq</th>\n",
              "      <td>nan</td>\n",
              "      <td>nan</td>\n",
              "      <td>2</td>\n",
              "      <td>843</td>\n",
              "      <td>nan</td>\n",
              "      <td>nan</td>\n",
              "      <td>nan</td>\n",
              "      <td>11</td>\n",
              "      <td>nan</td>\n",
              "      <td>6</td>\n",
              "      <td>916</td>\n",
              "      <td>783</td>\n",
              "      <td>296</td>\n",
              "      <td>nan</td>\n",
              "      <td>nan</td>\n",
              "    </tr>\n",
              "    <tr>\n",
              "      <th>mean</th>\n",
              "      <td>0.38</td>\n",
              "      <td>2.29</td>\n",
              "      <td>NaN</td>\n",
              "      <td>NaN</td>\n",
              "      <td>29.53</td>\n",
              "      <td>0.50</td>\n",
              "      <td>0.39</td>\n",
              "      <td>NaN</td>\n",
              "      <td>33.30</td>\n",
              "      <td>NaN</td>\n",
              "      <td>NaN</td>\n",
              "      <td>NaN</td>\n",
              "      <td>NaN</td>\n",
              "      <td>0.07</td>\n",
              "      <td>0.88</td>\n",
              "    </tr>\n",
              "    <tr>\n",
              "      <th>std</th>\n",
              "      <td>0.49</td>\n",
              "      <td>0.84</td>\n",
              "      <td>NaN</td>\n",
              "      <td>NaN</td>\n",
              "      <td>13.42</td>\n",
              "      <td>1.04</td>\n",
              "      <td>0.87</td>\n",
              "      <td>NaN</td>\n",
              "      <td>51.76</td>\n",
              "      <td>NaN</td>\n",
              "      <td>NaN</td>\n",
              "      <td>NaN</td>\n",
              "      <td>NaN</td>\n",
              "      <td>0.25</td>\n",
              "      <td>1.58</td>\n",
              "    </tr>\n",
              "    <tr>\n",
              "      <th>min</th>\n",
              "      <td>0.00</td>\n",
              "      <td>1.00</td>\n",
              "      <td>NaN</td>\n",
              "      <td>NaN</td>\n",
              "      <td>0.17</td>\n",
              "      <td>0.00</td>\n",
              "      <td>0.00</td>\n",
              "      <td>NaN</td>\n",
              "      <td>0.00</td>\n",
              "      <td>NaN</td>\n",
              "      <td>NaN</td>\n",
              "      <td>NaN</td>\n",
              "      <td>NaN</td>\n",
              "      <td>0.00</td>\n",
              "      <td>0.00</td>\n",
              "    </tr>\n",
              "    <tr>\n",
              "      <th>25%</th>\n",
              "      <td>0.00</td>\n",
              "      <td>2.00</td>\n",
              "      <td>NaN</td>\n",
              "      <td>NaN</td>\n",
              "      <td>21.00</td>\n",
              "      <td>0.00</td>\n",
              "      <td>0.00</td>\n",
              "      <td>NaN</td>\n",
              "      <td>7.90</td>\n",
              "      <td>NaN</td>\n",
              "      <td>NaN</td>\n",
              "      <td>NaN</td>\n",
              "      <td>NaN</td>\n",
              "      <td>0.00</td>\n",
              "      <td>0.00</td>\n",
              "    </tr>\n",
              "    <tr>\n",
              "      <th>50%</th>\n",
              "      <td>0.00</td>\n",
              "      <td>3.00</td>\n",
              "      <td>NaN</td>\n",
              "      <td>NaN</td>\n",
              "      <td>28.32</td>\n",
              "      <td>0.00</td>\n",
              "      <td>0.00</td>\n",
              "      <td>NaN</td>\n",
              "      <td>14.45</td>\n",
              "      <td>NaN</td>\n",
              "      <td>NaN</td>\n",
              "      <td>NaN</td>\n",
              "      <td>NaN</td>\n",
              "      <td>0.00</td>\n",
              "      <td>0.00</td>\n",
              "    </tr>\n",
              "    <tr>\n",
              "      <th>75%</th>\n",
              "      <td>1.00</td>\n",
              "      <td>3.00</td>\n",
              "      <td>NaN</td>\n",
              "      <td>NaN</td>\n",
              "      <td>36.50</td>\n",
              "      <td>1.00</td>\n",
              "      <td>0.00</td>\n",
              "      <td>NaN</td>\n",
              "      <td>31.27</td>\n",
              "      <td>NaN</td>\n",
              "      <td>NaN</td>\n",
              "      <td>NaN</td>\n",
              "      <td>NaN</td>\n",
              "      <td>0.00</td>\n",
              "      <td>1.00</td>\n",
              "    </tr>\n",
              "    <tr>\n",
              "      <th>max</th>\n",
              "      <td>1.00</td>\n",
              "      <td>3.00</td>\n",
              "      <td>NaN</td>\n",
              "      <td>NaN</td>\n",
              "      <td>80.00</td>\n",
              "      <td>8.00</td>\n",
              "      <td>9.00</td>\n",
              "      <td>NaN</td>\n",
              "      <td>512.33</td>\n",
              "      <td>NaN</td>\n",
              "      <td>NaN</td>\n",
              "      <td>NaN</td>\n",
              "      <td>NaN</td>\n",
              "      <td>1.00</td>\n",
              "      <td>10.00</td>\n",
              "    </tr>\n",
              "  </tbody>\n",
              "</table>\n",
              "</div>"
            ],
            "text/plain": [
              "          Survived      Pclass                  Name   Sex         Age       SibSp       Parch    Ticket        Fare        Cabin Embarked Title age_group    is_child  family_size\n",
              "count       891.00    1,309.00                  1309  1309    1,309.00    1,309.00    1,309.00      1309    1,308.00          295     1309  1309      1308    1,309.00     1,309.00\n",
              "unique         nan         nan                  1307     2         nan         nan         nan       929         nan          186        3     4        16         nan          nan\n",
              "top            nan         nan  Connolly, Miss. Kate  male         nan         nan         nan  CA. 2343         nan  C23 C25 C27        S    Mr  [25, 30)         nan          nan\n",
              "freq           nan         nan                     2   843         nan         nan         nan        11         nan            6      916   783       296         nan          nan\n",
              "mean          0.38        2.29                   NaN   NaN       29.53        0.50        0.39       NaN       33.30          NaN      NaN   NaN       NaN        0.07         0.88\n",
              "std           0.49        0.84                   NaN   NaN       13.42        1.04        0.87       NaN       51.76          NaN      NaN   NaN       NaN        0.25         1.58\n",
              "min           0.00        1.00                   NaN   NaN        0.17        0.00        0.00       NaN        0.00          NaN      NaN   NaN       NaN        0.00         0.00\n",
              "25%           0.00        2.00                   NaN   NaN       21.00        0.00        0.00       NaN        7.90          NaN      NaN   NaN       NaN        0.00         0.00\n",
              "50%           0.00        3.00                   NaN   NaN       28.32        0.00        0.00       NaN       14.45          NaN      NaN   NaN       NaN        0.00         0.00\n",
              "75%           1.00        3.00                   NaN   NaN       36.50        1.00        0.00       NaN       31.27          NaN      NaN   NaN       NaN        0.00         1.00\n",
              "max           1.00        3.00                   NaN   NaN       80.00        8.00        9.00       NaN      512.33          NaN      NaN   NaN       NaN        1.00        10.00"
            ]
          },
          "metadata": {
            "tags": []
          },
          "execution_count": 197
        }
      ]
    },
    {
      "cell_type": "code",
      "metadata": {
        "id": "Xod_Aa-8-Kjh",
        "colab_type": "code",
        "colab": {}
      },
      "source": [
        "df_combined.drop(columns=['Name', 'SibSp', 'Parch', 'Ticket', 'Fare','Cabin', 'Title', 'Age', 'age_group'],inplace=True)\n"
      ],
      "execution_count": 0,
      "outputs": []
    },
    {
      "cell_type": "code",
      "metadata": {
        "id": "lAEtDK5Q_Kma",
        "colab_type": "code",
        "outputId": "65ba66f3-064b-4135-9ec5-a069b1e20322",
        "colab": {
          "base_uri": "https://localhost:8080/",
          "height": 227
        }
      },
      "source": [
        "df_combined.head()"
      ],
      "execution_count": 0,
      "outputs": [
        {
          "output_type": "execute_result",
          "data": {
            "text/html": [
              "<div>\n",
              "<style scoped>\n",
              "    .dataframe tbody tr th:only-of-type {\n",
              "        vertical-align: middle;\n",
              "    }\n",
              "\n",
              "    .dataframe tbody tr th {\n",
              "        vertical-align: top;\n",
              "    }\n",
              "\n",
              "    .dataframe thead th {\n",
              "        text-align: right;\n",
              "    }\n",
              "</style>\n",
              "<table border=\"1\" class=\"dataframe\">\n",
              "  <thead>\n",
              "    <tr style=\"text-align: right;\">\n",
              "      <th></th>\n",
              "      <th>Survived</th>\n",
              "      <th>Pclass</th>\n",
              "      <th>Sex</th>\n",
              "      <th>Embarked</th>\n",
              "      <th>is_child</th>\n",
              "      <th>family_size</th>\n",
              "    </tr>\n",
              "    <tr>\n",
              "      <th>PassengerId</th>\n",
              "      <th></th>\n",
              "      <th></th>\n",
              "      <th></th>\n",
              "      <th></th>\n",
              "      <th></th>\n",
              "      <th></th>\n",
              "    </tr>\n",
              "  </thead>\n",
              "  <tbody>\n",
              "    <tr>\n",
              "      <th>1</th>\n",
              "      <td>0.00</td>\n",
              "      <td>3</td>\n",
              "      <td>male</td>\n",
              "      <td>S</td>\n",
              "      <td>0</td>\n",
              "      <td>1</td>\n",
              "    </tr>\n",
              "    <tr>\n",
              "      <th>2</th>\n",
              "      <td>1.00</td>\n",
              "      <td>1</td>\n",
              "      <td>female</td>\n",
              "      <td>C</td>\n",
              "      <td>0</td>\n",
              "      <td>1</td>\n",
              "    </tr>\n",
              "    <tr>\n",
              "      <th>3</th>\n",
              "      <td>1.00</td>\n",
              "      <td>3</td>\n",
              "      <td>female</td>\n",
              "      <td>S</td>\n",
              "      <td>0</td>\n",
              "      <td>0</td>\n",
              "    </tr>\n",
              "    <tr>\n",
              "      <th>4</th>\n",
              "      <td>1.00</td>\n",
              "      <td>1</td>\n",
              "      <td>female</td>\n",
              "      <td>S</td>\n",
              "      <td>0</td>\n",
              "      <td>1</td>\n",
              "    </tr>\n",
              "    <tr>\n",
              "      <th>5</th>\n",
              "      <td>0.00</td>\n",
              "      <td>3</td>\n",
              "      <td>male</td>\n",
              "      <td>S</td>\n",
              "      <td>0</td>\n",
              "      <td>0</td>\n",
              "    </tr>\n",
              "  </tbody>\n",
              "</table>\n",
              "</div>"
            ],
            "text/plain": [
              "               Survived  Pclass     Sex Embarked  is_child  family_size\n",
              "PassengerId                                                            \n",
              "1                  0.00       3    male        S         0            1\n",
              "2                  1.00       1  female        C         0            1\n",
              "3                  1.00       3  female        S         0            0\n",
              "4                  1.00       1  female        S         0            1\n",
              "5                  0.00       3    male        S         0            0"
            ]
          },
          "metadata": {
            "tags": []
          },
          "execution_count": 199
        }
      ]
    },
    {
      "cell_type": "markdown",
      "metadata": {
        "id": "9HQDHMtXUaZ_",
        "colab_type": "text"
      },
      "source": [
        "# Regression Models (One Hot Encoding)"
      ]
    },
    {
      "cell_type": "markdown",
      "metadata": {
        "id": "5YxJQINfXmeI",
        "colab_type": "text"
      },
      "source": [
        "### Decompose into Test and Train"
      ]
    },
    {
      "cell_type": "code",
      "metadata": {
        "id": "y47Uii_fS54m",
        "colab_type": "code",
        "colab": {}
      },
      "source": [
        "combined = pd.get_dummies(df_combined, columns=['Pclass','Sex', 'Embarked', 'family_size'], drop_first=True)"
      ],
      "execution_count": 0,
      "outputs": []
    },
    {
      "cell_type": "code",
      "metadata": {
        "id": "1r1AbKKST94l",
        "colab_type": "code",
        "outputId": "180d0b7a-a172-475a-ceb4-4153223202d4",
        "colab": {
          "base_uri": "https://localhost:8080/",
          "height": 247
        }
      },
      "source": [
        "combined.head()"
      ],
      "execution_count": 0,
      "outputs": [
        {
          "output_type": "execute_result",
          "data": {
            "text/html": [
              "<div>\n",
              "<style scoped>\n",
              "    .dataframe tbody tr th:only-of-type {\n",
              "        vertical-align: middle;\n",
              "    }\n",
              "\n",
              "    .dataframe tbody tr th {\n",
              "        vertical-align: top;\n",
              "    }\n",
              "\n",
              "    .dataframe thead th {\n",
              "        text-align: right;\n",
              "    }\n",
              "</style>\n",
              "<table border=\"1\" class=\"dataframe\">\n",
              "  <thead>\n",
              "    <tr style=\"text-align: right;\">\n",
              "      <th></th>\n",
              "      <th>Survived</th>\n",
              "      <th>is_child</th>\n",
              "      <th>Pclass_2</th>\n",
              "      <th>Pclass_3</th>\n",
              "      <th>Sex_male</th>\n",
              "      <th>Embarked_Q</th>\n",
              "      <th>Embarked_S</th>\n",
              "      <th>family_size_1</th>\n",
              "      <th>family_size_2</th>\n",
              "      <th>family_size_3</th>\n",
              "      <th>family_size_4</th>\n",
              "      <th>family_size_5</th>\n",
              "      <th>family_size_6</th>\n",
              "      <th>family_size_7</th>\n",
              "      <th>family_size_10</th>\n",
              "    </tr>\n",
              "    <tr>\n",
              "      <th>PassengerId</th>\n",
              "      <th></th>\n",
              "      <th></th>\n",
              "      <th></th>\n",
              "      <th></th>\n",
              "      <th></th>\n",
              "      <th></th>\n",
              "      <th></th>\n",
              "      <th></th>\n",
              "      <th></th>\n",
              "      <th></th>\n",
              "      <th></th>\n",
              "      <th></th>\n",
              "      <th></th>\n",
              "      <th></th>\n",
              "      <th></th>\n",
              "    </tr>\n",
              "  </thead>\n",
              "  <tbody>\n",
              "    <tr>\n",
              "      <th>1</th>\n",
              "      <td>0.00</td>\n",
              "      <td>0</td>\n",
              "      <td>0</td>\n",
              "      <td>1</td>\n",
              "      <td>1</td>\n",
              "      <td>0</td>\n",
              "      <td>1</td>\n",
              "      <td>1</td>\n",
              "      <td>0</td>\n",
              "      <td>0</td>\n",
              "      <td>0</td>\n",
              "      <td>0</td>\n",
              "      <td>0</td>\n",
              "      <td>0</td>\n",
              "      <td>0</td>\n",
              "    </tr>\n",
              "    <tr>\n",
              "      <th>2</th>\n",
              "      <td>1.00</td>\n",
              "      <td>0</td>\n",
              "      <td>0</td>\n",
              "      <td>0</td>\n",
              "      <td>0</td>\n",
              "      <td>0</td>\n",
              "      <td>0</td>\n",
              "      <td>1</td>\n",
              "      <td>0</td>\n",
              "      <td>0</td>\n",
              "      <td>0</td>\n",
              "      <td>0</td>\n",
              "      <td>0</td>\n",
              "      <td>0</td>\n",
              "      <td>0</td>\n",
              "    </tr>\n",
              "    <tr>\n",
              "      <th>3</th>\n",
              "      <td>1.00</td>\n",
              "      <td>0</td>\n",
              "      <td>0</td>\n",
              "      <td>1</td>\n",
              "      <td>0</td>\n",
              "      <td>0</td>\n",
              "      <td>1</td>\n",
              "      <td>0</td>\n",
              "      <td>0</td>\n",
              "      <td>0</td>\n",
              "      <td>0</td>\n",
              "      <td>0</td>\n",
              "      <td>0</td>\n",
              "      <td>0</td>\n",
              "      <td>0</td>\n",
              "    </tr>\n",
              "    <tr>\n",
              "      <th>4</th>\n",
              "      <td>1.00</td>\n",
              "      <td>0</td>\n",
              "      <td>0</td>\n",
              "      <td>0</td>\n",
              "      <td>0</td>\n",
              "      <td>0</td>\n",
              "      <td>1</td>\n",
              "      <td>1</td>\n",
              "      <td>0</td>\n",
              "      <td>0</td>\n",
              "      <td>0</td>\n",
              "      <td>0</td>\n",
              "      <td>0</td>\n",
              "      <td>0</td>\n",
              "      <td>0</td>\n",
              "    </tr>\n",
              "    <tr>\n",
              "      <th>5</th>\n",
              "      <td>0.00</td>\n",
              "      <td>0</td>\n",
              "      <td>0</td>\n",
              "      <td>1</td>\n",
              "      <td>1</td>\n",
              "      <td>0</td>\n",
              "      <td>1</td>\n",
              "      <td>0</td>\n",
              "      <td>0</td>\n",
              "      <td>0</td>\n",
              "      <td>0</td>\n",
              "      <td>0</td>\n",
              "      <td>0</td>\n",
              "      <td>0</td>\n",
              "      <td>0</td>\n",
              "    </tr>\n",
              "  </tbody>\n",
              "</table>\n",
              "</div>"
            ],
            "text/plain": [
              "               Survived  is_child  Pclass_2  Pclass_3  Sex_male  Embarked_Q  Embarked_S  family_size_1  family_size_2  family_size_3  family_size_4  family_size_5  family_size_6  family_size_7  \\\n",
              "PassengerId                                                                                                                                                                                        \n",
              "1                  0.00         0         0         1         1           0           1              1              0              0              0              0              0              0   \n",
              "2                  1.00         0         0         0         0           0           0              1              0              0              0              0              0              0   \n",
              "3                  1.00         0         0         1         0           0           1              0              0              0              0              0              0              0   \n",
              "4                  1.00         0         0         0         0           0           1              1              0              0              0              0              0              0   \n",
              "5                  0.00         0         0         1         1           0           1              0              0              0              0              0              0              0   \n",
              "\n",
              "             family_size_10  \n",
              "PassengerId                  \n",
              "1                         0  \n",
              "2                         0  \n",
              "3                         0  \n",
              "4                         0  \n",
              "5                         0  "
            ]
          },
          "metadata": {
            "tags": []
          },
          "execution_count": 201
        }
      ]
    },
    {
      "cell_type": "code",
      "metadata": {
        "id": "y2XDfzv--GSD",
        "colab_type": "code",
        "colab": {}
      },
      "source": [
        "train = combined[:df_train.shape[0]].copy()\n",
        "test = combined[df_train.shape[0]:].copy()\n",
        "test.drop('Survived',axis=1,inplace=True)"
      ],
      "execution_count": 0,
      "outputs": []
    },
    {
      "cell_type": "markdown",
      "metadata": {
        "id": "oF4RhzzPYYP2",
        "colab_type": "text"
      },
      "source": [
        "encode `Sex` to `is_male`\n",
        "encode `Pclass`\n",
        "encode embarked"
      ]
    },
    {
      "cell_type": "markdown",
      "metadata": {
        "id": "aFh__kYYYFnL",
        "colab_type": "text"
      },
      "source": [
        "Train set split\n",
        "test model LR\n",
        "check metrics - train, valid and test\n",
        "repeat for decision - including validation curve\n",
        "repeat for random forest - including validation curve"
      ]
    },
    {
      "cell_type": "code",
      "metadata": {
        "id": "pdgy4dWZJuyj",
        "colab_type": "code",
        "colab": {}
      },
      "source": [
        "def split_data(df_train):\n",
        "  _df_train, df_temp = train_test_split(df_train, test_size=0.4, random_state=12345)\n",
        "  df_valid, df_test = train_test_split(df_temp, test_size=0.5, random_state=12345)\n",
        "  features_train = _df_train.drop(['Survived'], axis=1)\n",
        "  target_train = _df_train['Survived']\n",
        "  features_valid = df_valid.drop(['Survived'], axis=1)\n",
        "  target_valid = df_valid['Survived']\n",
        "  features_test = df_test.drop(['Survived'], axis=1)\n",
        "  target_test = df_test['Survived']\n",
        "  return features_train, target_train, features_valid, target_valid, features_test, target_test"
      ],
      "execution_count": 0,
      "outputs": []
    },
    {
      "cell_type": "code",
      "metadata": {
        "id": "2dLUBhZ2OBoX",
        "colab_type": "code",
        "colab": {}
      },
      "source": [
        "features_train, target_train, features_valid, target_valid, features_test, target_test = split_data(train)"
      ],
      "execution_count": 0,
      "outputs": []
    },
    {
      "cell_type": "code",
      "metadata": {
        "id": "3Y4kd5kVN-d7",
        "colab_type": "code",
        "outputId": "5fc5f1f5-8b98-4a9c-f7aa-281e4f3e7e38",
        "colab": {
          "base_uri": "https://localhost:8080/",
          "height": 307
        }
      },
      "source": [
        "features_train.describe(include='all')"
      ],
      "execution_count": 0,
      "outputs": [
        {
          "output_type": "execute_result",
          "data": {
            "text/html": [
              "<div>\n",
              "<style scoped>\n",
              "    .dataframe tbody tr th:only-of-type {\n",
              "        vertical-align: middle;\n",
              "    }\n",
              "\n",
              "    .dataframe tbody tr th {\n",
              "        vertical-align: top;\n",
              "    }\n",
              "\n",
              "    .dataframe thead th {\n",
              "        text-align: right;\n",
              "    }\n",
              "</style>\n",
              "<table border=\"1\" class=\"dataframe\">\n",
              "  <thead>\n",
              "    <tr style=\"text-align: right;\">\n",
              "      <th></th>\n",
              "      <th>is_child</th>\n",
              "      <th>Pclass_2</th>\n",
              "      <th>Pclass_3</th>\n",
              "      <th>Sex_male</th>\n",
              "      <th>Embarked_Q</th>\n",
              "      <th>Embarked_S</th>\n",
              "      <th>family_size_1</th>\n",
              "      <th>family_size_2</th>\n",
              "      <th>family_size_3</th>\n",
              "      <th>family_size_4</th>\n",
              "      <th>family_size_5</th>\n",
              "      <th>family_size_6</th>\n",
              "      <th>family_size_7</th>\n",
              "      <th>family_size_10</th>\n",
              "    </tr>\n",
              "  </thead>\n",
              "  <tbody>\n",
              "    <tr>\n",
              "      <th>count</th>\n",
              "      <td>534.00</td>\n",
              "      <td>534.00</td>\n",
              "      <td>534.00</td>\n",
              "      <td>534.00</td>\n",
              "      <td>534.00</td>\n",
              "      <td>534.00</td>\n",
              "      <td>534.00</td>\n",
              "      <td>534.00</td>\n",
              "      <td>534.00</td>\n",
              "      <td>534.00</td>\n",
              "      <td>534.00</td>\n",
              "      <td>534.00</td>\n",
              "      <td>534.00</td>\n",
              "      <td>534.00</td>\n",
              "    </tr>\n",
              "    <tr>\n",
              "      <th>mean</th>\n",
              "      <td>0.09</td>\n",
              "      <td>0.21</td>\n",
              "      <td>0.57</td>\n",
              "      <td>0.65</td>\n",
              "      <td>0.09</td>\n",
              "      <td>0.74</td>\n",
              "      <td>0.18</td>\n",
              "      <td>0.12</td>\n",
              "      <td>0.04</td>\n",
              "      <td>0.02</td>\n",
              "      <td>0.03</td>\n",
              "      <td>0.01</td>\n",
              "      <td>0.01</td>\n",
              "      <td>0.01</td>\n",
              "    </tr>\n",
              "    <tr>\n",
              "      <th>std</th>\n",
              "      <td>0.28</td>\n",
              "      <td>0.40</td>\n",
              "      <td>0.50</td>\n",
              "      <td>0.48</td>\n",
              "      <td>0.29</td>\n",
              "      <td>0.44</td>\n",
              "      <td>0.39</td>\n",
              "      <td>0.32</td>\n",
              "      <td>0.19</td>\n",
              "      <td>0.13</td>\n",
              "      <td>0.18</td>\n",
              "      <td>0.12</td>\n",
              "      <td>0.10</td>\n",
              "      <td>0.11</td>\n",
              "    </tr>\n",
              "    <tr>\n",
              "      <th>min</th>\n",
              "      <td>0.00</td>\n",
              "      <td>0.00</td>\n",
              "      <td>0.00</td>\n",
              "      <td>0.00</td>\n",
              "      <td>0.00</td>\n",
              "      <td>0.00</td>\n",
              "      <td>0.00</td>\n",
              "      <td>0.00</td>\n",
              "      <td>0.00</td>\n",
              "      <td>0.00</td>\n",
              "      <td>0.00</td>\n",
              "      <td>0.00</td>\n",
              "      <td>0.00</td>\n",
              "      <td>0.00</td>\n",
              "    </tr>\n",
              "    <tr>\n",
              "      <th>25%</th>\n",
              "      <td>0.00</td>\n",
              "      <td>0.00</td>\n",
              "      <td>0.00</td>\n",
              "      <td>0.00</td>\n",
              "      <td>0.00</td>\n",
              "      <td>0.00</td>\n",
              "      <td>0.00</td>\n",
              "      <td>0.00</td>\n",
              "      <td>0.00</td>\n",
              "      <td>0.00</td>\n",
              "      <td>0.00</td>\n",
              "      <td>0.00</td>\n",
              "      <td>0.00</td>\n",
              "      <td>0.00</td>\n",
              "    </tr>\n",
              "    <tr>\n",
              "      <th>50%</th>\n",
              "      <td>0.00</td>\n",
              "      <td>0.00</td>\n",
              "      <td>1.00</td>\n",
              "      <td>1.00</td>\n",
              "      <td>0.00</td>\n",
              "      <td>1.00</td>\n",
              "      <td>0.00</td>\n",
              "      <td>0.00</td>\n",
              "      <td>0.00</td>\n",
              "      <td>0.00</td>\n",
              "      <td>0.00</td>\n",
              "      <td>0.00</td>\n",
              "      <td>0.00</td>\n",
              "      <td>0.00</td>\n",
              "    </tr>\n",
              "    <tr>\n",
              "      <th>75%</th>\n",
              "      <td>0.00</td>\n",
              "      <td>0.00</td>\n",
              "      <td>1.00</td>\n",
              "      <td>1.00</td>\n",
              "      <td>0.00</td>\n",
              "      <td>1.00</td>\n",
              "      <td>0.00</td>\n",
              "      <td>0.00</td>\n",
              "      <td>0.00</td>\n",
              "      <td>0.00</td>\n",
              "      <td>0.00</td>\n",
              "      <td>0.00</td>\n",
              "      <td>0.00</td>\n",
              "      <td>0.00</td>\n",
              "    </tr>\n",
              "    <tr>\n",
              "      <th>max</th>\n",
              "      <td>1.00</td>\n",
              "      <td>1.00</td>\n",
              "      <td>1.00</td>\n",
              "      <td>1.00</td>\n",
              "      <td>1.00</td>\n",
              "      <td>1.00</td>\n",
              "      <td>1.00</td>\n",
              "      <td>1.00</td>\n",
              "      <td>1.00</td>\n",
              "      <td>1.00</td>\n",
              "      <td>1.00</td>\n",
              "      <td>1.00</td>\n",
              "      <td>1.00</td>\n",
              "      <td>1.00</td>\n",
              "    </tr>\n",
              "  </tbody>\n",
              "</table>\n",
              "</div>"
            ],
            "text/plain": [
              "         is_child    Pclass_2    Pclass_3    Sex_male  Embarked_Q  Embarked_S  family_size_1  family_size_2  family_size_3  family_size_4  family_size_5  family_size_6  family_size_7  family_size_10\n",
              "count      534.00      534.00      534.00      534.00      534.00      534.00         534.00         534.00         534.00         534.00         534.00         534.00         534.00          534.00\n",
              "mean         0.09        0.21        0.57        0.65        0.09        0.74           0.18           0.12           0.04           0.02           0.03           0.01           0.01            0.01\n",
              "std          0.28        0.40        0.50        0.48        0.29        0.44           0.39           0.32           0.19           0.13           0.18           0.12           0.10            0.11\n",
              "min          0.00        0.00        0.00        0.00        0.00        0.00           0.00           0.00           0.00           0.00           0.00           0.00           0.00            0.00\n",
              "25%          0.00        0.00        0.00        0.00        0.00        0.00           0.00           0.00           0.00           0.00           0.00           0.00           0.00            0.00\n",
              "50%          0.00        0.00        1.00        1.00        0.00        1.00           0.00           0.00           0.00           0.00           0.00           0.00           0.00            0.00\n",
              "75%          0.00        0.00        1.00        1.00        0.00        1.00           0.00           0.00           0.00           0.00           0.00           0.00           0.00            0.00\n",
              "max          1.00        1.00        1.00        1.00        1.00        1.00           1.00           1.00           1.00           1.00           1.00           1.00           1.00            1.00"
            ]
          },
          "metadata": {
            "tags": []
          },
          "execution_count": 208
        }
      ]
    },
    {
      "cell_type": "code",
      "metadata": {
        "id": "KecimOMBUVp5",
        "colab_type": "code",
        "outputId": "6724bf25-8eb0-4880-d2c0-31bdd789b603",
        "colab": {
          "base_uri": "https://localhost:8080/",
          "height": 34
        }
      },
      "source": [
        "model = LogisticRegression(random_state=12345, class_weight=None)\n",
        "model.fit(features_train, target_train)\n",
        "predictions_valid = model.predict(features_valid)\n",
        "print(\"score:\", model.score(target_valid, predictions_valid))"
      ],
      "execution_count": 0,
      "outputs": [
        {
          "output_type": "stream",
          "text": [
            "F1: 0.6724137931034482\n"
          ],
          "name": "stdout"
        }
      ]
    },
    {
      "cell_type": "code",
      "metadata": {
        "id": "G870ITybUxZL",
        "colab_type": "code",
        "colab": {}
      },
      "source": [
        "def learning_curve(train, valid, steps, target):\n",
        "    plt.figure(figsize=(9, 9))\n",
        "    targets = [target]* len(train)\n",
        "    plt.plot(steps, train, 'o-', color=\"r\", label=\"Training\")\n",
        "    plt.plot(steps, valid, 'o-', color=\"b\", label=\"Validation\")\n",
        "    plt.plot(steps, targets,'-', color=\"g\", label=\"Target\")\n",
        "    plt.ylabel('Score') \n",
        "    plt.title('Learning Curve')\n",
        "    plt.legend()\n",
        "    plt.show()"
      ],
      "execution_count": 0,
      "outputs": []
    },
    {
      "cell_type": "code",
      "metadata": {
        "id": "eVUVyzutVQ5l",
        "colab_type": "code",
        "outputId": "710cde68-c3a4-41d4-c701-cc364568f157",
        "colab": {
          "base_uri": "https://localhost:8080/",
          "height": 553
        }
      },
      "source": [
        "score_train = []\n",
        "score_valid = []\n",
        "steps = []\n",
        "for depth in range(2,20):\n",
        "    model = DecisionTreeClassifier(random_state=12345, max_depth=depth, class_weight='balanced')\n",
        "    model.fit(features_train, target_train)\n",
        "    steps.append(depth)\n",
        "    score_train.append(model.score(target_train, model.predict(features_train)))\n",
        "    score_valid.append(model.score(target_valid, model.predict(features_valid)))\n",
        "learning_curve(score_train, score_valid, steps, 0.59)"
      ],
      "execution_count": 0,
      "outputs": [
        {
          "output_type": "display_data",
          "data": {
            "image/png": "[encoded data removed]",
            "text/plain": [
              "<Figure size 648x648 with 1 Axes>"
            ]
          },
          "metadata": {
            "tags": [],
            "needs_background": "light"
          }
        }
      ]
    },
    {
      "cell_type": "code",
      "metadata": {
        "id": "bir9wRrEVVLa",
        "colab_type": "code",
        "outputId": "ff82f1eb-45b1-46c4-9886-76e1af89670d",
        "colab": {
          "base_uri": "https://localhost:8080/",
          "height": 553
        }
      },
      "source": [
        "score_train = []\n",
        "score_valid = []\n",
        "steps = []\n",
        "for depth in range(2,10):\n",
        "    model = RandomForestClassifier(random_state=12345, max_depth=depth, class_weight='balanced')\n",
        "    model.fit(features_train, target_train)\n",
        "    steps.append(depth)\n",
        "    score_train.append(model.score(target_train, model.predict(features_train)))\n",
        "    score_valid.append(model.score(target_valid, model.predict(features_valid)))\n",
        "\n",
        "learning_curve(score_train, score_valid, steps, 0.59)"
      ],
      "execution_count": 0,
      "outputs": [
        {
          "output_type": "display_data",
          "data": {
            "image/png": "[encoded data removed]",
            "text/plain": [
              "<Figure size 648x648 with 1 Axes>"
            ]
          },
          "metadata": {
            "tags": [],
            "needs_background": "light"
          }
        }
      ]
    },
    {
      "cell_type": "code",
      "metadata": {
        "id": "fdtOhIALWEwr",
        "colab_type": "code",
        "outputId": "cd2ada0d-885e-46f0-f8f4-a6223bcd67f0",
        "colab": {
          "base_uri": "https://localhost:8080/",
          "height": 34
        }
      },
      "source": [
        "model = RandomForestClassifier(random_state=12345, max_depth=5, class_weight='balanced')\n",
        "model.fit(features_train, target_train)\n",
        "print(\n",
        "    model.score(target_train, model.predict(features_train)),\n",
        "    model.score(target_valid, model.predict(features_valid)),\n",
        "    model.score(target_test, model.predict(features_test))\n",
        "    )"
      ],
      "execution_count": 0,
      "outputs": [
        {
          "output_type": "stream",
          "text": [
            "0.7882037533512064 0.7166666666666666 0.7586206896551725\n"
          ],
          "name": "stdout"
        }
      ]
    },
    {
      "cell_type": "markdown",
      "metadata": {
        "id": "ldIvrTDXU2no",
        "colab_type": "text"
      },
      "source": [
        "# Tree based models Models - Ordinal Encoding"
      ]
    },
    {
      "cell_type": "code",
      "metadata": {
        "id": "QIcYcdW8Z3OW",
        "colab_type": "code",
        "colab": {}
      },
      "source": [
        "encoder = OrdinalEncoder()\n",
        "combined['Embarked'] = encoder.fit_transform(combined[['Embarked']])\n",
        "combined = pd.get_dummies(combined, columns=['Sex'], drop_first=True)"
      ],
      "execution_count": 0,
      "outputs": []
    }
  ]
}